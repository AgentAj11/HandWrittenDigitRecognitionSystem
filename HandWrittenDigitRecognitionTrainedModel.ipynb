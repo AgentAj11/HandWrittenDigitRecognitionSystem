{
 "cells": [
  {
   "cell_type": "code",
   "execution_count": 7,
   "id": "caccefec-c1f0-4573-b6f2-149fa291b9fc",
   "metadata": {},
   "outputs": [],
   "source": [
    "import tensorflow as tf\n",
    "import matplotlib.pyplot as plt\n",
    "import numpy as np\n",
    "from tensorflow.keras.models import Sequential\n",
    "from tensorflow.keras.layers import Dense, Dropout, Activation, Flatten, Conv2D, MaxPooling2D\n",
    "import cv2\n",
    "from tensorflow.keras.models import load_model"
   ]
  },
  {
   "cell_type": "markdown",
   "id": "dd79f5f8-41b8-4ea3-9b0d-a0c62e3beffb",
   "metadata": {},
   "source": [
    "# 1. Data collection & splitting"
   ]
  },
  {
   "cell_type": "code",
   "execution_count": 8,
   "id": "65d844aa-a6e6-426e-b05e-d63c84211e7d",
   "metadata": {},
   "outputs": [
    {
     "data": {
      "text/plain": [
       "(60000, 28, 28)"
      ]
     },
     "execution_count": 8,
     "metadata": {},
     "output_type": "execute_result"
    }
   ],
   "source": [
    "mnist = tf.keras.datasets.mnist\n",
    "# training & testing sample\n",
    "(x_train, y_train), (x_test, y_test) = mnist.load_data()\n",
    "x_train.shape"
   ]
  },
  {
   "cell_type": "markdown",
   "id": "967a3dc8-e4f4-4be5-b08e-66fb2874f1bc",
   "metadata": {},
   "source": [
    "# 2. Normalization"
   ]
  },
  {
   "cell_type": "code",
   "execution_count": 9,
   "id": "8856d901-d6a5-48e1-94a2-9433241a1a3a",
   "metadata": {},
   "outputs": [],
   "source": [
    "x_train = tf.keras.utils.normalize(x_train, axis = 1)\n",
    "x_test = tf.keras.utils.normalize(x_test, axis = 1)"
   ]
  },
  {
   "cell_type": "markdown",
   "id": "25722033-0d4f-4e14-b177-26ab27b7c4ba",
   "metadata": {},
   "source": [
    "# 3. Resizing the dataset for convolution"
   ]
  },
  {
   "cell_type": "code",
   "execution_count": 10,
   "id": "c47c5bdd-519f-492a-8e45-05982237860d",
   "metadata": {},
   "outputs": [
    {
     "name": "stdout",
     "output_type": "stream",
     "text": [
      "Training Samples dimension (60000, 28, 28, 1)\n",
      "Testing Samples dimension (10000, 28, 28, 1)\n"
     ]
    }
   ],
   "source": [
    "imgSize = 28\n",
    "x_trainr = np.array(x_train).reshape(-1, imgSize, imgSize, 1) # -1 corresponds to maximum, here it is 60000\n",
    "x_testr = np.array(x_test).reshape(-1, imgSize, imgSize, 1) # & 10000\n",
    "print(\"Training Samples dimension\", x_trainr.shape)\n",
    "print(\"Testing Samples dimension\", x_testr.shape)"
   ]
  },
  {
   "cell_type": "markdown",
   "id": "61a429f5-4615-40a3-a2a8-c8b58fa89def",
   "metadata": {},
   "source": [
    "# 4. Creating Deep Neural Network"
   ]
  },
  {
   "cell_type": "code",
   "execution_count": 11,
   "id": "4f673ba3-2286-4f05-b6a7-24fd01276a77",
   "metadata": {},
   "outputs": [],
   "source": [
    "model = Sequential()\n",
    "\n",
    "# 1st convolution layer\n",
    "model.add(Conv2D(64, (3,3), input_shape = x_trainr.shape[1:]))\n",
    "model.add(Activation(\"relu\")) # activation function\n",
    "model.add(MaxPooling2D(pool_size = (2,2))) \n",
    "\n",
    "# 2nd convolution layer\n",
    "model.add(Conv2D(64, (3,3), input_shape = x_trainr.shape[1:]))\n",
    "model.add(Activation(\"relu\"))\n",
    "model.add(MaxPooling2D(pool_size = (2,2)))\n",
    "\n",
    "# 3rd convolution layer\n",
    "model.add(Conv2D(64, (3,3), input_shape = x_trainr.shape[1:]))\n",
    "model.add(Activation(\"relu\"))\n",
    "model.add(MaxPooling2D(pool_size = (2,2)))\n",
    "\n",
    "# fully connected layer 1\n",
    "model.add(Flatten())\n",
    "model.add(Dense(64))\n",
    "model.add(Activation(\"relu\"))\n",
    "\n",
    "# fully connected layer 2\n",
    "model.add(Dense(32))\n",
    "model.add(Activation(\"relu\"))\n",
    "\n",
    "# last fully connected layer\n",
    "model.add(Dense(10))\n",
    "model.add(Activation(\"softmax\"))"
   ]
  },
  {
   "cell_type": "markdown",
   "id": "2e3ed0f2-8aa8-4e15-867c-1475f772f1a3",
   "metadata": {},
   "source": [
    "# 5. Model Summary"
   ]
  },
  {
   "cell_type": "code",
   "execution_count": 12,
   "id": "e9d64d78-643d-4e9b-9ae5-a6b6a66b5a93",
   "metadata": {},
   "outputs": [
    {
     "name": "stdout",
     "output_type": "stream",
     "text": [
      "Model: \"sequential\"\n",
      "_________________________________________________________________\n",
      " Layer (type)                Output Shape              Param #   \n",
      "=================================================================\n",
      " conv2d (Conv2D)             (None, 26, 26, 64)        640       \n",
      "                                                                 \n",
      " activation (Activation)     (None, 26, 26, 64)        0         \n",
      "                                                                 \n",
      " max_pooling2d (MaxPooling2  (None, 13, 13, 64)        0         \n",
      " D)                                                              \n",
      "                                                                 \n",
      " conv2d_1 (Conv2D)           (None, 11, 11, 64)        36928     \n",
      "                                                                 \n",
      " activation_1 (Activation)   (None, 11, 11, 64)        0         \n",
      "                                                                 \n",
      " max_pooling2d_1 (MaxPoolin  (None, 5, 5, 64)          0         \n",
      " g2D)                                                            \n",
      "                                                                 \n",
      " conv2d_2 (Conv2D)           (None, 3, 3, 64)          36928     \n",
      "                                                                 \n",
      " activation_2 (Activation)   (None, 3, 3, 64)          0         \n",
      "                                                                 \n",
      " max_pooling2d_2 (MaxPoolin  (None, 1, 1, 64)          0         \n",
      " g2D)                                                            \n",
      "                                                                 \n",
      " flatten (Flatten)           (None, 64)                0         \n",
      "                                                                 \n",
      " dense (Dense)               (None, 64)                4160      \n",
      "                                                                 \n",
      " activation_3 (Activation)   (None, 64)                0         \n",
      "                                                                 \n",
      " dense_1 (Dense)             (None, 32)                2080      \n",
      "                                                                 \n",
      " activation_4 (Activation)   (None, 32)                0         \n",
      "                                                                 \n",
      " dense_2 (Dense)             (None, 10)                330       \n",
      "                                                                 \n",
      " activation_5 (Activation)   (None, 10)                0         \n",
      "                                                                 \n",
      "=================================================================\n",
      "Total params: 81066 (316.66 KB)\n",
      "Trainable params: 81066 (316.66 KB)\n",
      "Non-trainable params: 0 (0.00 Byte)\n",
      "_________________________________________________________________\n"
     ]
    }
   ],
   "source": [
    "model.summary()"
   ]
  },
  {
   "cell_type": "markdown",
   "id": "fb8cc593-1172-4791-998b-b8add1c0201b",
   "metadata": {},
   "source": [
    "# 6. Model Compilation"
   ]
  },
  {
   "cell_type": "code",
   "execution_count": 13,
   "id": "1209b119-6c4d-49db-9fc5-16a1cb2258c5",
   "metadata": {},
   "outputs": [],
   "source": [
    "model.compile(loss = \"sparse_categorical_crossentropy\", optimizer=\"adam\", metrics=[\"accuracy\"])"
   ]
  },
  {
   "cell_type": "markdown",
   "id": "2edf51c4-8121-4255-a99e-18c0a343a633",
   "metadata": {},
   "source": [
    "# 7. Model Training"
   ]
  },
  {
   "cell_type": "code",
   "execution_count": 14,
   "id": "d34f2613-6107-4bc6-97d6-981f38c82489",
   "metadata": {},
   "outputs": [
    {
     "name": "stdout",
     "output_type": "stream",
     "text": [
      "Epoch 1/5\n",
      "1313/1313 [==============================] - 39s 29ms/step - loss: 0.3540 - accuracy: 0.8876 - val_loss: 0.1263 - val_accuracy: 0.9623\n",
      "Epoch 2/5\n",
      "1313/1313 [==============================] - 34s 26ms/step - loss: 0.1090 - accuracy: 0.9663 - val_loss: 0.0842 - val_accuracy: 0.9751\n",
      "Epoch 3/5\n",
      "1313/1313 [==============================] - 38s 29ms/step - loss: 0.0801 - accuracy: 0.9757 - val_loss: 0.0908 - val_accuracy: 0.9732\n",
      "Epoch 4/5\n",
      "1313/1313 [==============================] - 34s 26ms/step - loss: 0.0611 - accuracy: 0.9814 - val_loss: 0.0646 - val_accuracy: 0.9807\n",
      "Epoch 5/5\n",
      "1313/1313 [==============================] - 33s 25ms/step - loss: 0.0483 - accuracy: 0.9847 - val_loss: 0.0840 - val_accuracy: 0.9761\n"
     ]
    },
    {
     "data": {
      "text/plain": [
       "<keras.src.callbacks.History at 0x1e44b664b50>"
      ]
     },
     "execution_count": 14,
     "metadata": {},
     "output_type": "execute_result"
    }
   ],
   "source": [
    "model.fit(x_trainr, y_train, epochs = 5, validation_split = 0.3)"
   ]
  },
  {
   "cell_type": "markdown",
   "id": "532ecde0-f122-43b0-a040-7687d6625a8c",
   "metadata": {},
   "source": [
    "# 8. Model Evaluation"
   ]
  },
  {
   "cell_type": "code",
   "execution_count": 15,
   "id": "b42c5d20-869b-43b7-a78f-3094ce756a27",
   "metadata": {},
   "outputs": [
    {
     "name": "stdout",
     "output_type": "stream",
     "text": [
      "313/313 [==============================] - 3s 8ms/step - loss: 0.0768 - accuracy: 0.9785\n",
      "Test Loss on 10k test samples =  0.07677127420902252\n",
      "Validation Accuracy on 10k test samples =  0.9785000085830688\n"
     ]
    }
   ],
   "source": [
    "testLoss, testAccuracy = model.evaluate(x_testr, y_test)\n",
    "print(\"Test Loss on 10k test samples = \", testLoss)\n",
    "print(\"Validation Accuracy on 10k test samples = \", testAccuracy)"
   ]
  },
  {
   "cell_type": "markdown",
   "id": "5e98cafb-5abc-4c1f-aa00-5847c86c2c40",
   "metadata": {},
   "source": [
    "# 9. Saving the model"
   ]
  },
  {
   "cell_type": "code",
   "execution_count": 16,
   "id": "39ebc800-1b29-41ef-b23a-e06307175d6d",
   "metadata": {},
   "outputs": [
    {
     "name": "stderr",
     "output_type": "stream",
     "text": [
      "C:\\Users\\ajGau\\AppData\\Local\\Programs\\Python\\Python310\\lib\\site-packages\\keras\\src\\engine\\training.py:3000: UserWarning: You are saving your model as an HDF5 file via `model.save()`. This file format is considered legacy. We recommend using instead the native Keras format, e.g. `model.save('my_model.keras')`.\n",
      "  saving_api.save_model(\n"
     ]
    }
   ],
   "source": [
    "model.save(\"TrainedModel.h5\")"
   ]
  },
  {
   "cell_type": "markdown",
   "id": "7200baff-707c-41ce-9cf0-e54e6e439f5b",
   "metadata": {},
   "source": [
    "# 10. Predicting from test dataset sample"
   ]
  },
  {
   "cell_type": "code",
   "execution_count": 17,
   "id": "eda464d1-ccae-4c45-b887-cb0efc7beb79",
   "metadata": {},
   "outputs": [
    {
     "name": "stdout",
     "output_type": "stream",
     "text": [
      "313/313 [==============================] - 3s 8ms/step\n"
     ]
    }
   ],
   "source": [
    "predictions = model.predict(x_testr)"
   ]
  },
  {
   "cell_type": "code",
   "execution_count": 18,
   "id": "53e29f9c-ef42-4f9c-bc47-8ef003f38385",
   "metadata": {},
   "outputs": [
    {
     "name": "stdout",
     "output_type": "stream",
     "text": [
      "[[1.4832107e-09 1.6410822e-07 2.6034375e-06 ... 9.9999714e-01\n",
      "  1.3334042e-09 1.7604900e-07]\n",
      " [3.0246376e-05 5.2442783e-07 9.9996030e-01 ... 3.4450295e-07\n",
      "  5.9300680e-07 1.7931050e-07]\n",
      " [9.3076678e-06 9.9991226e-01 5.8010469e-06 ... 5.1716546e-05\n",
      "  1.3967796e-06 4.9770879e-06]\n",
      " ...\n",
      " [1.5975800e-07 5.7413172e-07 3.3976705e-06 ... 3.4229638e-06\n",
      "  5.8326177e-06 1.1733988e-04]\n",
      " [7.9744808e-05 1.2906539e-09 7.8291613e-08 ... 5.0396922e-09\n",
      "  5.0533104e-06 1.0171613e-05]\n",
      " [1.6771790e-05 1.7616010e-06 7.9272584e-05 ... 9.7710977e-09\n",
      "  3.3437254e-06 7.6974203e-07]]\n"
     ]
    }
   ],
   "source": [
    "print(predictions)"
   ]
  },
  {
   "cell_type": "code",
   "execution_count": 56,
   "id": "f215ef7f-8517-44c8-950f-046e7fcdd419",
   "metadata": {},
   "outputs": [
    {
     "data": {
      "image/png": "[encoded data removed]",
      "text/plain": [
       "<Figure size 640x480 with 1 Axes>"
      ]
     },
     "metadata": {},
     "output_type": "display_data"
    },
    {
     "name": "stdout",
     "output_type": "stream",
     "text": [
      "Predicted Digit = 7\n"
     ]
    }
   ],
   "source": [
    "import random\n",
    "indx = random.randint(0, 999)\n",
    "plt.imshow(x_testr[indx])\n",
    "plt.show()\n",
    "prediction = np.argmax(predictions[indx]) # prediction / label\n",
    "print(f\"Predicted Digit = {prediction}\")"
   ]
  },
  {
   "cell_type": "markdown",
   "id": "ceefba38-56b2-45a3-8035-ef09030ce270",
   "metadata": {},
   "source": [
    "# 11. User input predicition"
   ]
  },
  {
   "cell_type": "code",
   "execution_count": 49,
   "id": "f0af382a-ecb6-4cc8-b966-1ee11396516d",
   "metadata": {},
   "outputs": [
    {
     "data": {
      "image/png": "[encoded data removed]",
      "text/plain": [
       "<Figure size 640x480 with 1 Axes>"
      ]
     },
     "metadata": {},
     "output_type": "display_data"
    },
    {
     "data": {
      "text/plain": [
       "(512, 204, 3)"
      ]
     },
     "execution_count": 49,
     "metadata": {},
     "output_type": "execute_result"
    }
   ],
   "source": [
    "ipimg = cv2.imread(\"img22.png\")\n",
    "plt.imshow(ipimg)\n",
    "plt.show()\n",
    "ipimg.shape"
   ]
  },
  {
   "cell_type": "markdown",
   "id": "ad17c1ab-e92f-41ef-89fa-9442f0575b7e",
   "metadata": {},
   "source": [
    "# Input image Pre-Processing"
   ]
  },
  {
   "cell_type": "code",
   "execution_count": 50,
   "id": "306ad46a-136b-42f9-b2be-69865d354dcb",
   "metadata": {},
   "outputs": [
    {
     "data": {
      "text/plain": [
       "(28, 28, 3)"
      ]
     },
     "execution_count": 50,
     "metadata": {},
     "output_type": "execute_result"
    }
   ],
   "source": [
    "# 1. Resize\n",
    "ipimg = cv2.resize(ipimg, (28, 28), interpolation = cv2.INTER_AREA)\n",
    "ipimg.shape"
   ]
  },
  {
   "cell_type": "code",
   "execution_count": 51,
   "id": "e1e80dd2-876e-45f5-b681-0f0fd741ad2c",
   "metadata": {},
   "outputs": [
    {
     "data": {
      "text/plain": [
       "(28, 28)"
      ]
     },
     "execution_count": 51,
     "metadata": {},
     "output_type": "execute_result"
    }
   ],
   "source": [
    "# 2. Grayscale\n",
    "ipimg = cv2.cvtColor(ipimg, cv2.COLOR_BGR2GRAY)\n",
    "ipimg.shape"
   ]
  },
  {
   "cell_type": "code",
   "execution_count": 52,
   "id": "691ba208-a365-4d3d-993e-5257162857d9",
   "metadata": {},
   "outputs": [
    {
     "data": {
      "text/plain": [
       "<matplotlib.image.AxesImage at 0x1e44d176530>"
      ]
     },
     "execution_count": 52,
     "metadata": {},
     "output_type": "execute_result"
    },
    {
     "data": {
      "image/png": "[encoded data removed]",
      "text/plain": [
       "<Figure size 640x480 with 1 Axes>"
      ]
     },
     "metadata": {},
     "output_type": "display_data"
    }
   ],
   "source": [
    "plt.imshow(ipimg)"
   ]
  },
  {
   "cell_type": "code",
   "execution_count": 53,
   "id": "2421c6e9-269d-4000-8340-d4e33301d1a1",
   "metadata": {},
   "outputs": [],
   "source": [
    "# 3. Normalization\n",
    "ipimg = tf.keras.utils.normalize(ipimg, axis = 1)"
   ]
  },
  {
   "cell_type": "code",
   "execution_count": 54,
   "id": "b55d4bc2-004d-4e9c-9678-81fb03604dce",
   "metadata": {},
   "outputs": [
    {
     "data": {
      "text/plain": [
       "(1, 28, 28, 1)"
      ]
     },
     "execution_count": 54,
     "metadata": {},
     "output_type": "execute_result"
    }
   ],
   "source": [
    "# 4. Reshape\n",
    "ipimg = np.array(ipimg).reshape(-1, 28, 28, 1)\n",
    "ipimg.shape"
   ]
  },
  {
   "cell_type": "markdown",
   "id": "0765f8b1-09a2-46ad-a9aa-bd61f4a53d50",
   "metadata": {},
   "source": [
    "# 12. Digit Prediction"
   ]
  },
  {
   "cell_type": "code",
   "execution_count": 55,
   "id": "e7c802df-8d7a-462d-8c20-a82194641e7f",
   "metadata": {},
   "outputs": [
    {
     "name": "stdout",
     "output_type": "stream",
     "text": [
      "1/1 [==============================] - 0s 18ms/step\n",
      "Predicted Digit = 7\n"
     ]
    }
   ],
   "source": [
    "prediction = model.predict(ipimg)\n",
    "print(f\"Predicted Digit = {np.argmax(prediction)}\")"
   ]
  },
  {
   "cell_type": "code",
   "execution_count": null,
   "id": "316777e0-4394-483f-854a-1f431baf4874",
   "metadata": {},
   "outputs": [],
   "source": []
  }
 ],
 "metadata": {
  "kernelspec": {
   "display_name": "Python 3 (ipykernel)",
   "language": "python",
   "name": "python3"
  },
  "language_info": {
   "codemirror_mode": {
    "name": "ipython",
    "version": 3
   },
   "file_extension": ".py",
   "mimetype": "text/x-python",
   "name": "python",
   "nbconvert_exporter": "python",
   "pygments_lexer": "ipython3",
   "version": "3.10.5"
  }
 },
 "nbformat": 4,
 "nbformat_minor": 5
}
